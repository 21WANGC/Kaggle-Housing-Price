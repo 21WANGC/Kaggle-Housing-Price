{
 "cells": [
  {
   "cell_type": "code",
   "execution_count": 1,
   "metadata": {
    "collapsed": true
   },
   "outputs": [],
   "source": [
    "import pandas as pd\n",
    "import numpy as np\n",
    "from scipy.stats import skew\n",
    "\n",
    "from sklearn.model_selection import cross_val_score\n",
    "from sklearn.linear_model import Ridge"
   ]
  },
  {
   "cell_type": "code",
   "execution_count": 2,
   "metadata": {
    "collapsed": true
   },
   "outputs": [],
   "source": [
    "df_train = pd.read_csv('train_clean.csv', sep='|')\n",
    "df_test = pd.read_csv('test_clean.csv', sep='|')"
   ]
  },
  {
   "cell_type": "code",
   "execution_count": 4,
   "metadata": {
    "collapsed": true
   },
   "outputs": [],
   "source": [
    "#split dataframe\n",
    "y = df_train['SalePrice'].values\n",
    "X = df_train.loc[:,'LotFrontage':'2010.8'].values"
   ]
  },
  {
   "cell_type": "code",
   "execution_count": 5,
   "metadata": {
    "collapsed": true
   },
   "outputs": [],
   "source": [
    "#root mean square error function \n",
    "def rmse(model):\n",
    "    error = np.sqrt(-cross_val_score(model, X, y, scoring='neg_mean_squared_error', cv=5))\n",
    "    return(error)"
   ]
  },
  {
   "cell_type": "code",
   "execution_count": 6,
   "metadata": {},
   "outputs": [
    {
     "name": "stdout",
     "output_type": "stream",
     "text": [
      "alpha: 4   rmse: 0.134106382041\n",
      "alpha: 5   rmse: 0.133957784497\n",
      "alpha: 6   rmse: 0.133939530653\n",
      "alpha: 7   rmse: 0.134002632495\n",
      "alpha: 8   rmse: 0.134119465037\n",
      "alpha: 9   rmse: 0.134273056404\n",
      "alpha: 10   rmse: 0.134452320416\n",
      "alpha: 11   rmse: 0.134649680985\n",
      "alpha: 12   rmse: 0.134859781827\n",
      "alpha: 13   rmse: 0.135078736498\n",
      "alpha: 14   rmse: 0.135303668127\n"
     ]
    }
   ],
   "source": [
    "#hyperparameter tuning for Ridge alpha\n",
    "#alphas = [0.05, 0.1, 0.3, 1, 3, 5, 10, 15, 30, 50] FOR REFERENCE\n",
    "alphas = [4,5,6,7,8,9,10,11,12,13,14]\n",
    "for alpha in alphas:\n",
    "    print('alpha: ' + str(alpha) + '   rmse: ' + str(rmse(Ridge(alpha=alpha)).mean()))\n",
    "    \n",
    "#alpha = 5"
   ]
  },
  {
   "cell_type": "code",
   "execution_count": 8,
   "metadata": {
    "collapsed": true
   },
   "outputs": [],
   "source": [
    "#Ridge regressor\n",
    "ridge = Ridge(alpha=5, normalize=True)\n",
    "ridge.fit(X, y)\n",
    "\n",
    "ID = df_test['Id']\n",
    "df_test = df_test.drop('Id', axis=1)\n",
    "predictions = 2.718281828459 ** ridge.predict(df_test)\n",
    "\n",
    "result = pd.DataFrame({'Id':ID, 'SalePrice':predictions})\n",
    "result.to_csv('ridge_model.csv', index=False)"
   ]
  },
  {
   "cell_type": "code",
   "execution_count": 9,
   "metadata": {},
   "outputs": [
    {
     "data": {
      "text/html": [
       "<div>\n",
       "<style>\n",
       "    .dataframe thead tr:only-child th {\n",
       "        text-align: right;\n",
       "    }\n",
       "\n",
       "    .dataframe thead th {\n",
       "        text-align: left;\n",
       "    }\n",
       "\n",
       "    .dataframe tbody tr th {\n",
       "        vertical-align: top;\n",
       "    }\n",
       "</style>\n",
       "<table border=\"1\" class=\"dataframe\">\n",
       "  <thead>\n",
       "    <tr style=\"text-align: right;\">\n",
       "      <th></th>\n",
       "      <th>Id</th>\n",
       "      <th>SalePrice</th>\n",
       "    </tr>\n",
       "  </thead>\n",
       "  <tbody>\n",
       "    <tr>\n",
       "      <th>0</th>\n",
       "      <td>1461</td>\n",
       "      <td>127220.242783</td>\n",
       "    </tr>\n",
       "    <tr>\n",
       "      <th>1</th>\n",
       "      <td>1462</td>\n",
       "      <td>150719.193980</td>\n",
       "    </tr>\n",
       "    <tr>\n",
       "      <th>2</th>\n",
       "      <td>1463</td>\n",
       "      <td>179564.669904</td>\n",
       "    </tr>\n",
       "    <tr>\n",
       "      <th>3</th>\n",
       "      <td>1464</td>\n",
       "      <td>196954.073401</td>\n",
       "    </tr>\n",
       "    <tr>\n",
       "      <th>4</th>\n",
       "      <td>1465</td>\n",
       "      <td>176209.642683</td>\n",
       "    </tr>\n",
       "  </tbody>\n",
       "</table>\n",
       "</div>"
      ],
      "text/plain": [
       "     Id      SalePrice\n",
       "0  1461  127220.242783\n",
       "1  1462  150719.193980\n",
       "2  1463  179564.669904\n",
       "3  1464  196954.073401\n",
       "4  1465  176209.642683"
      ]
     },
     "execution_count": 9,
     "metadata": {},
     "output_type": "execute_result"
    }
   ],
   "source": [
    "result.head()"
   ]
  }
 ],
 "metadata": {
  "kernelspec": {
   "display_name": "Python 3",
   "language": "python",
   "name": "python3"
  },
  "language_info": {
   "codemirror_mode": {
    "name": "ipython",
    "version": 3
   },
   "file_extension": ".py",
   "mimetype": "text/x-python",
   "name": "python",
   "nbconvert_exporter": "python",
   "pygments_lexer": "ipython3",
   "version": "3.6.1"
  }
 },
 "nbformat": 4,
 "nbformat_minor": 2
}
